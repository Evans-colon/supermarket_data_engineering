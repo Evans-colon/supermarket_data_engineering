{
 "cells": [
  {
   "cell_type": "code",
   "execution_count": 86,
   "id": "initial_id",
   "metadata": {
    "collapsed": true,
    "ExecuteTime": {
     "end_time": "2024-01-26T01:33:22.810414168Z",
     "start_time": "2024-01-26T01:33:22.767960522Z"
    }
   },
   "outputs": [],
   "source": [
    "import pandas as pd\n",
    "from sklearn.preprocessing import LabelEncoder"
   ]
  },
  {
   "cell_type": "code",
   "outputs": [
    {
     "data": {
      "text/plain": "    Invoice ID Branch       City Customer type  Gender  \\\n0  750-67-8428      A     Yangon        Member  Female   \n1  226-31-3081      C  Naypyitaw        Normal  Female   \n2  631-41-3108      A     Yangon        Normal    Male   \n3  123-19-1176      A     Yangon        Member    Male   \n4  373-73-7910      A     Yangon        Normal    Male   \n\n             Product line  Unit price  Quantity   Tax 5%     Total       Date  \\\n0       Health and beauty       74.69         7  26.1415  548.9715   1/5/2019   \n1  Electronic accessories       15.28         5   3.8200   80.2200   3/8/2019   \n2      Home and lifestyle       46.33         7  16.2155  340.5255   3/3/2019   \n3       Health and beauty       58.22         8  23.2880  489.0480  1/27/2019   \n4       Sports and travel       86.31         7  30.2085  634.3785   2/8/2019   \n\n    Time      Payment    cogs  gross margin percentage  gross income  Rating  \n0  13:08      Ewallet  522.83                 4.761905       26.1415     9.1  \n1  10:29         Cash   76.40                 4.761905        3.8200     9.6  \n2  13:23  Credit card  324.31                 4.761905       16.2155     7.4  \n3  20:33      Ewallet  465.76                 4.761905       23.2880     8.4  \n4  10:37      Ewallet  604.17                 4.761905       30.2085     5.3  ",
      "text/html": "<div>\n<style scoped>\n    .dataframe tbody tr th:only-of-type {\n        vertical-align: middle;\n    }\n\n    .dataframe tbody tr th {\n        vertical-align: top;\n    }\n\n    .dataframe thead th {\n        text-align: right;\n    }\n</style>\n<table border=\"1\" class=\"dataframe\">\n  <thead>\n    <tr style=\"text-align: right;\">\n      <th></th>\n      <th>Invoice ID</th>\n      <th>Branch</th>\n      <th>City</th>\n      <th>Customer type</th>\n      <th>Gender</th>\n      <th>Product line</th>\n      <th>Unit price</th>\n      <th>Quantity</th>\n      <th>Tax 5%</th>\n      <th>Total</th>\n      <th>Date</th>\n      <th>Time</th>\n      <th>Payment</th>\n      <th>cogs</th>\n      <th>gross margin percentage</th>\n      <th>gross income</th>\n      <th>Rating</th>\n    </tr>\n  </thead>\n  <tbody>\n    <tr>\n      <th>0</th>\n      <td>750-67-8428</td>\n      <td>A</td>\n      <td>Yangon</td>\n      <td>Member</td>\n      <td>Female</td>\n      <td>Health and beauty</td>\n      <td>74.69</td>\n      <td>7</td>\n      <td>26.1415</td>\n      <td>548.9715</td>\n      <td>1/5/2019</td>\n      <td>13:08</td>\n      <td>Ewallet</td>\n      <td>522.83</td>\n      <td>4.761905</td>\n      <td>26.1415</td>\n      <td>9.1</td>\n    </tr>\n    <tr>\n      <th>1</th>\n      <td>226-31-3081</td>\n      <td>C</td>\n      <td>Naypyitaw</td>\n      <td>Normal</td>\n      <td>Female</td>\n      <td>Electronic accessories</td>\n      <td>15.28</td>\n      <td>5</td>\n      <td>3.8200</td>\n      <td>80.2200</td>\n      <td>3/8/2019</td>\n      <td>10:29</td>\n      <td>Cash</td>\n      <td>76.40</td>\n      <td>4.761905</td>\n      <td>3.8200</td>\n      <td>9.6</td>\n    </tr>\n    <tr>\n      <th>2</th>\n      <td>631-41-3108</td>\n      <td>A</td>\n      <td>Yangon</td>\n      <td>Normal</td>\n      <td>Male</td>\n      <td>Home and lifestyle</td>\n      <td>46.33</td>\n      <td>7</td>\n      <td>16.2155</td>\n      <td>340.5255</td>\n      <td>3/3/2019</td>\n      <td>13:23</td>\n      <td>Credit card</td>\n      <td>324.31</td>\n      <td>4.761905</td>\n      <td>16.2155</td>\n      <td>7.4</td>\n    </tr>\n    <tr>\n      <th>3</th>\n      <td>123-19-1176</td>\n      <td>A</td>\n      <td>Yangon</td>\n      <td>Member</td>\n      <td>Male</td>\n      <td>Health and beauty</td>\n      <td>58.22</td>\n      <td>8</td>\n      <td>23.2880</td>\n      <td>489.0480</td>\n      <td>1/27/2019</td>\n      <td>20:33</td>\n      <td>Ewallet</td>\n      <td>465.76</td>\n      <td>4.761905</td>\n      <td>23.2880</td>\n      <td>8.4</td>\n    </tr>\n    <tr>\n      <th>4</th>\n      <td>373-73-7910</td>\n      <td>A</td>\n      <td>Yangon</td>\n      <td>Normal</td>\n      <td>Male</td>\n      <td>Sports and travel</td>\n      <td>86.31</td>\n      <td>7</td>\n      <td>30.2085</td>\n      <td>634.3785</td>\n      <td>2/8/2019</td>\n      <td>10:37</td>\n      <td>Ewallet</td>\n      <td>604.17</td>\n      <td>4.761905</td>\n      <td>30.2085</td>\n      <td>5.3</td>\n    </tr>\n  </tbody>\n</table>\n</div>"
     },
     "execution_count": 87,
     "metadata": {},
     "output_type": "execute_result"
    }
   ],
   "source": [
    "df = pd.read_csv(\"supermarket_sales.csv\")\n",
    "df.head(5)"
   ],
   "metadata": {
    "collapsed": false,
    "ExecuteTime": {
     "end_time": "2024-01-26T01:33:23.026132971Z",
     "start_time": "2024-01-26T01:33:22.980307413Z"
    }
   },
   "id": "a5b014f5877a944a",
   "execution_count": 87
  },
  {
   "cell_type": "code",
   "outputs": [
    {
     "name": "stdout",
     "output_type": "stream",
     "text": [
      "<class 'pandas.core.frame.DataFrame'>\n",
      "RangeIndex: 1000 entries, 0 to 999\n",
      "Data columns (total 17 columns):\n",
      " #   Column                   Non-Null Count  Dtype  \n",
      "---  ------                   --------------  -----  \n",
      " 0   Invoice ID               1000 non-null   object \n",
      " 1   Branch                   1000 non-null   object \n",
      " 2   City                     1000 non-null   object \n",
      " 3   Customer type            1000 non-null   object \n",
      " 4   Gender                   1000 non-null   object \n",
      " 5   Product line             1000 non-null   object \n",
      " 6   Unit price               1000 non-null   float64\n",
      " 7   Quantity                 1000 non-null   int64  \n",
      " 8   Tax 5%                   1000 non-null   float64\n",
      " 9   Total                    1000 non-null   float64\n",
      " 10  Date                     1000 non-null   object \n",
      " 11  Time                     1000 non-null   object \n",
      " 12  Payment                  1000 non-null   object \n",
      " 13  cogs                     1000 non-null   float64\n",
      " 14  gross margin percentage  1000 non-null   float64\n",
      " 15  gross income             1000 non-null   float64\n",
      " 16  Rating                   1000 non-null   float64\n",
      "dtypes: float64(7), int64(1), object(9)\n",
      "memory usage: 132.9+ KB\n"
     ]
    }
   ],
   "source": [
    "df.info()"
   ],
   "metadata": {
    "collapsed": false,
    "ExecuteTime": {
     "end_time": "2024-01-26T01:33:23.306941250Z",
     "start_time": "2024-01-26T01:33:23.305501395Z"
    }
   },
   "id": "ae58dca595610208",
   "execution_count": 88
  },
  {
   "cell_type": "code",
   "outputs": [
    {
     "name": "stderr",
     "output_type": "stream",
     "text": [
      "/tmp/ipykernel_5244/1302485406.py:2: UserWarning: Could not infer format, so each element will be parsed individually, falling back to `dateutil`. To ensure parsing is consistent and as-expected, please specify a format.\n",
      "  df['Time'] = pd.to_datetime(df['Time'])\n"
     ]
    }
   ],
   "source": [
    "df['Date'] = pd.to_datetime(df['Date'], format='%m/%d/%Y')\n",
    "df['Time'] = pd.to_datetime(df['Time'])\n",
    "# df['Time'] = pd.to_datetime(df['Time'], format='%H:%M').dt.time"
   ],
   "metadata": {
    "collapsed": false,
    "ExecuteTime": {
     "end_time": "2024-01-26T01:33:23.636657960Z",
     "start_time": "2024-01-26T01:33:23.585740059Z"
    }
   },
   "id": "cdac3f09b6abed58",
   "execution_count": 89
  },
  {
   "cell_type": "code",
   "outputs": [
    {
     "name": "stdout",
     "output_type": "stream",
     "text": [
      "<class 'pandas.core.frame.DataFrame'>\n",
      "RangeIndex: 1000 entries, 0 to 999\n",
      "Data columns (total 17 columns):\n",
      " #   Column                   Non-Null Count  Dtype         \n",
      "---  ------                   --------------  -----         \n",
      " 0   Invoice ID               1000 non-null   object        \n",
      " 1   Branch                   1000 non-null   object        \n",
      " 2   City                     1000 non-null   object        \n",
      " 3   Customer type            1000 non-null   object        \n",
      " 4   Gender                   1000 non-null   object        \n",
      " 5   Product line             1000 non-null   object        \n",
      " 6   Unit price               1000 non-null   float64       \n",
      " 7   Quantity                 1000 non-null   int64         \n",
      " 8   Tax 5%                   1000 non-null   float64       \n",
      " 9   Total                    1000 non-null   float64       \n",
      " 10  Date                     1000 non-null   datetime64[ns]\n",
      " 11  Time                     1000 non-null   datetime64[ns]\n",
      " 12  Payment                  1000 non-null   object        \n",
      " 13  cogs                     1000 non-null   float64       \n",
      " 14  gross margin percentage  1000 non-null   float64       \n",
      " 15  gross income             1000 non-null   float64       \n",
      " 16  Rating                   1000 non-null   float64       \n",
      "dtypes: datetime64[ns](2), float64(7), int64(1), object(7)\n",
      "memory usage: 132.9+ KB\n"
     ]
    }
   ],
   "source": [
    "df.info()"
   ],
   "metadata": {
    "collapsed": false,
    "ExecuteTime": {
     "end_time": "2024-01-26T01:33:23.806148696Z",
     "start_time": "2024-01-26T01:33:23.779331188Z"
    }
   },
   "id": "39f7c744d4d77d67",
   "execution_count": 90
  },
  {
   "cell_type": "code",
   "outputs": [
    {
     "data": {
      "text/plain": "    Invoice ID Branch       City Customer type  Gender  \\\n0  750-67-8428      A     Yangon        Member  Female   \n1  226-31-3081      C  Naypyitaw        Normal  Female   \n2  631-41-3108      A     Yangon        Normal    Male   \n3  123-19-1176      A     Yangon        Member    Male   \n4  373-73-7910      A     Yangon        Normal    Male   \n\n             Product line  Unit price  Quantity   Tax 5%     Total       Date  \\\n0       Health and beauty       74.69         7  26.1415  548.9715 2019-01-05   \n1  Electronic accessories       15.28         5   3.8200   80.2200 2019-03-08   \n2      Home and lifestyle       46.33         7  16.2155  340.5255 2019-03-03   \n3       Health and beauty       58.22         8  23.2880  489.0480 2019-01-27   \n4       Sports and travel       86.31         7  30.2085  634.3785 2019-02-08   \n\n                 Time      Payment    cogs  gross margin percentage  \\\n0 2024-01-26 13:08:00      Ewallet  522.83                 4.761905   \n1 2024-01-26 10:29:00         Cash   76.40                 4.761905   \n2 2024-01-26 13:23:00  Credit card  324.31                 4.761905   \n3 2024-01-26 20:33:00      Ewallet  465.76                 4.761905   \n4 2024-01-26 10:37:00      Ewallet  604.17                 4.761905   \n\n   gross income  Rating  \n0       26.1415     9.1  \n1        3.8200     9.6  \n2       16.2155     7.4  \n3       23.2880     8.4  \n4       30.2085     5.3  ",
      "text/html": "<div>\n<style scoped>\n    .dataframe tbody tr th:only-of-type {\n        vertical-align: middle;\n    }\n\n    .dataframe tbody tr th {\n        vertical-align: top;\n    }\n\n    .dataframe thead th {\n        text-align: right;\n    }\n</style>\n<table border=\"1\" class=\"dataframe\">\n  <thead>\n    <tr style=\"text-align: right;\">\n      <th></th>\n      <th>Invoice ID</th>\n      <th>Branch</th>\n      <th>City</th>\n      <th>Customer type</th>\n      <th>Gender</th>\n      <th>Product line</th>\n      <th>Unit price</th>\n      <th>Quantity</th>\n      <th>Tax 5%</th>\n      <th>Total</th>\n      <th>Date</th>\n      <th>Time</th>\n      <th>Payment</th>\n      <th>cogs</th>\n      <th>gross margin percentage</th>\n      <th>gross income</th>\n      <th>Rating</th>\n    </tr>\n  </thead>\n  <tbody>\n    <tr>\n      <th>0</th>\n      <td>750-67-8428</td>\n      <td>A</td>\n      <td>Yangon</td>\n      <td>Member</td>\n      <td>Female</td>\n      <td>Health and beauty</td>\n      <td>74.69</td>\n      <td>7</td>\n      <td>26.1415</td>\n      <td>548.9715</td>\n      <td>2019-01-05</td>\n      <td>2024-01-26 13:08:00</td>\n      <td>Ewallet</td>\n      <td>522.83</td>\n      <td>4.761905</td>\n      <td>26.1415</td>\n      <td>9.1</td>\n    </tr>\n    <tr>\n      <th>1</th>\n      <td>226-31-3081</td>\n      <td>C</td>\n      <td>Naypyitaw</td>\n      <td>Normal</td>\n      <td>Female</td>\n      <td>Electronic accessories</td>\n      <td>15.28</td>\n      <td>5</td>\n      <td>3.8200</td>\n      <td>80.2200</td>\n      <td>2019-03-08</td>\n      <td>2024-01-26 10:29:00</td>\n      <td>Cash</td>\n      <td>76.40</td>\n      <td>4.761905</td>\n      <td>3.8200</td>\n      <td>9.6</td>\n    </tr>\n    <tr>\n      <th>2</th>\n      <td>631-41-3108</td>\n      <td>A</td>\n      <td>Yangon</td>\n      <td>Normal</td>\n      <td>Male</td>\n      <td>Home and lifestyle</td>\n      <td>46.33</td>\n      <td>7</td>\n      <td>16.2155</td>\n      <td>340.5255</td>\n      <td>2019-03-03</td>\n      <td>2024-01-26 13:23:00</td>\n      <td>Credit card</td>\n      <td>324.31</td>\n      <td>4.761905</td>\n      <td>16.2155</td>\n      <td>7.4</td>\n    </tr>\n    <tr>\n      <th>3</th>\n      <td>123-19-1176</td>\n      <td>A</td>\n      <td>Yangon</td>\n      <td>Member</td>\n      <td>Male</td>\n      <td>Health and beauty</td>\n      <td>58.22</td>\n      <td>8</td>\n      <td>23.2880</td>\n      <td>489.0480</td>\n      <td>2019-01-27</td>\n      <td>2024-01-26 20:33:00</td>\n      <td>Ewallet</td>\n      <td>465.76</td>\n      <td>4.761905</td>\n      <td>23.2880</td>\n      <td>8.4</td>\n    </tr>\n    <tr>\n      <th>4</th>\n      <td>373-73-7910</td>\n      <td>A</td>\n      <td>Yangon</td>\n      <td>Normal</td>\n      <td>Male</td>\n      <td>Sports and travel</td>\n      <td>86.31</td>\n      <td>7</td>\n      <td>30.2085</td>\n      <td>634.3785</td>\n      <td>2019-02-08</td>\n      <td>2024-01-26 10:37:00</td>\n      <td>Ewallet</td>\n      <td>604.17</td>\n      <td>4.761905</td>\n      <td>30.2085</td>\n      <td>5.3</td>\n    </tr>\n  </tbody>\n</table>\n</div>"
     },
     "execution_count": 91,
     "metadata": {},
     "output_type": "execute_result"
    }
   ],
   "source": [
    "df = df.drop_duplicates().reset_index(drop=True)\n",
    "df.head(5)"
   ],
   "metadata": {
    "collapsed": false,
    "ExecuteTime": {
     "end_time": "2024-01-26T01:33:24.066520990Z",
     "start_time": "2024-01-26T01:33:24.031622721Z"
    }
   },
   "id": "878d6c58d59b314",
   "execution_count": 91
  },
  {
   "cell_type": "code",
   "outputs": [
    {
     "name": "stdout",
     "output_type": "stream",
     "text": [
      "     datetime_id  payment_id  customer_id  product_id  super_center_id  \\\n",
      "0              0           0            0           0                0   \n",
      "1              1           1            1           1                1   \n",
      "2              2           2            2           2                2   \n",
      "3              3           3            3           3                3   \n",
      "4              4           4            4           4                4   \n",
      "..           ...         ...          ...         ...              ...   \n",
      "995          995         995          995         995              995   \n",
      "996          996         996          996         996              996   \n",
      "997          997         997          997         997              997   \n",
      "998          998         998          998         998              998   \n",
      "999          999         999          999         999              999   \n",
      "\n",
      "     total_cost   5%_tax  total_quantity  rating  unit_price    cogs  \\\n",
      "0      548.9715  26.1415               7     9.1       74.69  522.83   \n",
      "1       80.2200   3.8200               5     9.6       15.28   76.40   \n",
      "2      340.5255  16.2155               7     7.4       46.33  324.31   \n",
      "3      489.0480  23.2880               8     8.4       58.22  465.76   \n",
      "4      634.3785  30.2085               7     5.3       86.31  604.17   \n",
      "..          ...      ...             ...     ...         ...     ...   \n",
      "995     42.3675   2.0175               1     6.2       40.35   40.35   \n",
      "996   1022.4900  48.6900              10     4.4       97.38  973.80   \n",
      "997     33.4320   1.5920               1     7.7       31.84   31.84   \n",
      "998     69.1110   3.2910               1     4.1       65.82   65.82   \n",
      "999    649.2990  30.9190               7     6.6       88.34  618.38   \n",
      "\n",
      "     total_gross_margin_percent  total_gross_income  \n",
      "0                      4.761905             26.1415  \n",
      "1                      4.761905              3.8200  \n",
      "2                      4.761905             16.2155  \n",
      "3                      4.761905             23.2880  \n",
      "4                      4.761905             30.2085  \n",
      "..                          ...                 ...  \n",
      "995                    4.761905              2.0175  \n",
      "996                    4.761905             48.6900  \n",
      "997                    4.761905              1.5920  \n",
      "998                    4.761905              3.2910  \n",
      "999                    4.761905             30.9190  \n",
      "\n",
      "[1000 rows x 13 columns]\n"
     ]
    }
   ],
   "source": [
    "class DataProcessor:\n",
    "    def __init__(self, df):\n",
    "        self.df = df\n",
    "\n",
    "    def process_datetime_dim(self):\n",
    "        datetime_dim = self.df[['Time', 'Date']].reset_index(drop=True)\n",
    "\n",
    "        # Extract purchase_time in the desired format\n",
    "        datetime_dim['purchase_time'] = datetime_dim['Time'].apply(lambda x: x.strftime('%I:%M %p') if pd.notna(x) else '')\n",
    "        \n",
    "        datetime_dim['datetime_id'] = datetime_dim.index\n",
    "\n",
    "        # Split purchase_time into new columns\n",
    "        split_time = datetime_dim['purchase_time'].str.split(':', expand=True)\n",
    "        datetime_dim['purchase_time_hour'] = split_time[0]\n",
    "        datetime_dim['purchase_time_minute'] = split_time[1].str.split().str[0]\n",
    "        datetime_dim['purchase_time_AM/PM'] = split_time[1].str.split().str[1]\n",
    "\n",
    "        # Extract other date-related features\n",
    "        datetime_dim['sales_date'] = datetime_dim['Date']\n",
    "        datetime_dim['sales_date_day'] = datetime_dim['Time'].dt.day_name()\n",
    "        datetime_dim['sales_date_month'] = datetime_dim['Time'].dt.month_name()\n",
    "        datetime_dim['sales_date_year'] = datetime_dim['Time'].dt.year\n",
    "        datetime_dim['sales_date_weekday'] = datetime_dim['Time'].dt.weekday\n",
    "\n",
    "        # Add a datetime_id column\n",
    "        datetime_dim['datetime_id'] = datetime_dim.index\n",
    "\n",
    "        # Reorder columns\n",
    "        datetime_dim = datetime_dim[['datetime_id', 'purchase_time', 'purchase_time_hour', 'purchase_time_minute', 'purchase_time_AM/PM',\n",
    "                                     'sales_date', 'sales_date_day', 'sales_date_month', 'sales_date_year', 'sales_date_weekday']]\n",
    "\n",
    "        return datetime_dim['datetime_id']\n",
    "    \n",
    "    \n",
    "\n",
    "    def process_payment_dim(self):\n",
    "        payment_dim = self.df[['Payment']].reset_index(drop=True)\n",
    "        payment_dim['payment_id'] = payment_dim.index\n",
    "        label_encoder = LabelEncoder()\n",
    "        payment_dim['payment_encoded'] = label_encoder.fit_transform(payment_dim['Payment'])\n",
    "        payment_dim = payment_dim[['payment_id', 'payment_encoded', 'Payment']]\n",
    "        return payment_dim['payment_id']\n",
    "    \n",
    "    def process_customer_dim(self):\n",
    "        customer_dim = self.df[['Customer type', 'Gender', 'Rating']].reset_index(drop=True)\n",
    "        customer_dim['customer_id'] = customer_dim.index\n",
    "        label_encoder = LabelEncoder()\n",
    "        customer_dim['customer_type_encoded'] = label_encoder.fit_transform(customer_dim['Customer type'])\n",
    "        customer_dim['customer_gender_encoded'] = label_encoder.fit_transform(customer_dim['Gender'])\n",
    "        bins = [1.0, 3.0, 5.0, 8.0, 10.0]\n",
    "        labels = ['poor', 'good', 'very_good', 'excellent']\n",
    "        customer_dim['rating_bin'] = pd.cut(customer_dim['Rating'], bins=bins, labels=labels)\n",
    "        customer_dim = customer_dim[['customer_id', 'customer_type_encoded', 'customer_gender_encoded', 'rating_bin', 'Customer type']]\n",
    "        return customer_dim['customer_id']\n",
    "    \n",
    "    \n",
    "\n",
    "    def process_product_dim(self):\n",
    "        product_dim = self.df[['Product line']].reset_index(drop=True)\n",
    "        product_dim['product_id'] = product_dim.index\n",
    "        label_encoder = LabelEncoder()\n",
    "        product_dim['product_line_encoded'] = label_encoder.fit_transform(product_dim['Product line'])\n",
    "        product_dim = product_dim[['product_id', 'Product line', 'product_line_encoded']]\n",
    "        return product_dim['product_id']\n",
    "    \n",
    "    \n",
    "\n",
    "    def process_super_center_dim(self):\n",
    "        super_center_dim = self.df[['Branch', 'City']].reset_index(drop=True)\n",
    "        super_center_dim['super_center_id'] = super_center_dim.index\n",
    "        label_encoder = LabelEncoder()\n",
    "        super_center_dim['branch_encoded'] = label_encoder.fit_transform(super_center_dim['Branch'])\n",
    "        super_center_dim['branch_city_encoded'] = label_encoder.fit_transform(super_center_dim['City'])\n",
    "        super_center_dim = super_center_dim[['Branch', 'City', 'super_center_id', 'branch_encoded', 'branch_city_encoded']]\n",
    "        return super_center_dim['super_center_id']\n",
    "    \n",
    "    \n",
    "    \n",
    "    def process_fact_table(self):\n",
    "        datetime_dim_result = self.process_datetime_dim()\n",
    "        payment_dim_result = self.process_payment_dim()\n",
    "        customer_dim_result = self.process_customer_dim()\n",
    "        product_dim_result = self.process_product_dim()\n",
    "        super_center_dim_result = self.process_super_center_dim()\n",
    "\n",
    "    # Creating a fact table by combining dimensions and adding metrics\n",
    "        fact_table = pd.merge(datetime_dim_result, payment_dim_result, how='inner', left_on='datetime_id', right_on='payment_id')\n",
    "        fact_table = pd.merge(fact_table, customer_dim_result, how='inner', left_on='datetime_id', right_on='customer_id')\n",
    "        fact_table = pd.merge(fact_table, product_dim_result, how='inner', left_on='datetime_id', right_on='product_id')\n",
    "        fact_table = pd.merge(fact_table, super_center_dim_result, how='inner', left_on='datetime_id', right_on='super_center_id')\n",
    "\n",
    "    # Appending additional columns to the fact table\n",
    "        fact_table['total_cost'] = self.df['Total']\n",
    "        fact_table['5%_tax'] = self.df['Tax 5%']\n",
    "        fact_table['total_quantity'] = self.df['Quantity']\n",
    "        fact_table['rating'] = self.df['Rating']\n",
    "        fact_table['unit_price'] = self.df['Unit price']\n",
    "        fact_table['cogs'] = self.df['cogs']\n",
    "        fact_table['total_gross_margin_percent'] = self.df['gross margin percentage']\n",
    "        fact_table['total_gross_income'] = self.df['gross income']\n",
    "\n",
    "        return fact_table\n",
    "\n",
    "processor = DataProcessor(df)\n",
    "print(processor.process_fact_table())\n",
    "\n"
   ],
   "metadata": {
    "collapsed": false,
    "ExecuteTime": {
     "end_time": "2024-01-26T01:40:12.019169132Z",
     "start_time": "2024-01-26T01:40:11.960074228Z"
    }
   },
   "id": "d8f291dc9ea4dcd9",
   "execution_count": 98
  },
  {
   "cell_type": "code",
   "outputs": [],
   "source": [],
   "metadata": {
    "collapsed": false,
    "ExecuteTime": {
     "end_time": "2024-01-26T01:33:25.041678785Z",
     "start_time": "2024-01-26T01:33:25.021284954Z"
    }
   },
   "id": "f25d15000d09dba4",
   "execution_count": 92
  },
  {
   "cell_type": "code",
   "outputs": [],
   "source": [],
   "metadata": {
    "collapsed": false,
    "ExecuteTime": {
     "end_time": "2024-01-26T01:33:25.502297378Z",
     "start_time": "2024-01-26T01:33:25.491069060Z"
    }
   },
   "id": "f101e96abb0e97d6",
   "execution_count": 92
  },
  {
   "cell_type": "code",
   "outputs": [],
   "source": [],
   "metadata": {
    "collapsed": false
   },
   "id": "c35981e0345b67da"
  }
 ],
 "metadata": {
  "kernelspec": {
   "display_name": "Python 3",
   "language": "python",
   "name": "python3"
  },
  "language_info": {
   "codemirror_mode": {
    "name": "ipython",
    "version": 2
   },
   "file_extension": ".py",
   "mimetype": "text/x-python",
   "name": "python",
   "nbconvert_exporter": "python",
   "pygments_lexer": "ipython2",
   "version": "2.7.6"
  }
 },
 "nbformat": 4,
 "nbformat_minor": 5
}
